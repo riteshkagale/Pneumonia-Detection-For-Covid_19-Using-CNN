{
  "nbformat": 4,
  "nbformat_minor": 0,
  "metadata": {
    "colab": {
      "name": "Pneumonia detection for Covid_19 using CNN.ipynb",
      "provenance": [],
      "collapsed_sections": []
    },
    "kernelspec": {
      "name": "python3",
      "display_name": "Python 3"
    }
  },
  "cells": [
    {
      "cell_type": "markdown",
      "metadata": {
        "id": "EMefrVPCg-60"
      },
      "source": [
        "### Importing the libraries"
      ]
    },
    {
      "cell_type": "code",
      "metadata": {
        "id": "sCV30xyVhFbE"
      },
      "source": [
        "import tensorflow as tf\n",
        "from keras.preprocessing.image import ImageDataGenerator"
      ],
      "execution_count": 1,
      "outputs": []
    },
    {
      "cell_type": "code",
      "metadata": {
        "id": "FIleuCAjoFD8",
        "outputId": "72f25e47-689b-4c9b-f260-a86e053e0bf8",
        "colab": {
          "base_uri": "https://localhost:8080/",
          "height": 35
        }
      },
      "source": [
        "tf.__version__"
      ],
      "execution_count": 2,
      "outputs": [
        {
          "output_type": "execute_result",
          "data": {
            "application/vnd.google.colaboratory.intrinsic+json": {
              "type": "string"
            },
            "text/plain": [
              "'2.3.0'"
            ]
          },
          "metadata": {
            "tags": []
          },
          "execution_count": 2
        }
      ]
    },
    {
      "cell_type": "code",
      "metadata": {
        "id": "bVd4Ad9-jWh1",
        "outputId": "42c6fa1e-0dc7-4862-d935-2d83d679e4b1",
        "colab": {
          "base_uri": "https://localhost:8080/",
          "height": 34
        }
      },
      "source": [
        "from google.colab import drive\n",
        "drive.mount('/content/gdrive')"
      ],
      "execution_count": 3,
      "outputs": [
        {
          "output_type": "stream",
          "text": [
            "Mounted at /content/gdrive\n"
          ],
          "name": "stdout"
        }
      ]
    },
    {
      "cell_type": "markdown",
      "metadata": {
        "id": "oxQxCBWyoGPE"
      },
      "source": [
        "## Part 1 - Data Preprocessing"
      ]
    },
    {
      "cell_type": "markdown",
      "metadata": {
        "id": "MvE-heJNo3GG"
      },
      "source": [
        "### Preprocessing the Training set"
      ]
    },
    {
      "cell_type": "code",
      "metadata": {
        "id": "0koUcJMJpEBD",
        "outputId": "2861088c-463c-4245-e6fb-83887bcf72ca",
        "colab": {
          "base_uri": "https://localhost:8080/",
          "height": 34
        }
      },
      "source": [
        "train_datagen = ImageDataGenerator(rescale = 1./255,\n",
        "                                   shear_range = 0.2,\n",
        "                                   zoom_range = 0.2,\n",
        "                                   horizontal_flip = True)\n",
        "training_set = train_datagen.flow_from_directory('/content/gdrive/My Drive/Colab Notebooks/dataset/train',\n",
        "                                                 target_size = (64, 64),\n",
        "                                                 batch_size = 32,\n",
        "                                                 class_mode = 'binary')"
      ],
      "execution_count": 4,
      "outputs": [
        {
          "output_type": "stream",
          "text": [
            "Found 148 images belonging to 2 classes.\n"
          ],
          "name": "stdout"
        }
      ]
    },
    {
      "cell_type": "markdown",
      "metadata": {
        "id": "mrCMmGw9pHys"
      },
      "source": [
        "### Preprocessing the Test set"
      ]
    },
    {
      "cell_type": "code",
      "metadata": {
        "id": "SH4WzfOhpKc3",
        "outputId": "e62fc7b3-4a84-4193-a19f-a96db1fb1b6c",
        "colab": {
          "base_uri": "https://localhost:8080/",
          "height": 34
        }
      },
      "source": [
        "test_datagen = ImageDataGenerator(rescale = 1./255)\n",
        "test_set = test_datagen.flow_from_directory('/content/gdrive/My Drive/Colab Notebooks/dataset/test',\n",
        "                                            target_size = (64, 64),\n",
        "                                            batch_size = 32,\n",
        "                                            class_mode = 'binary')"
      ],
      "execution_count": 5,
      "outputs": [
        {
          "output_type": "stream",
          "text": [
            "Found 38 images belonging to 2 classes.\n"
          ],
          "name": "stdout"
        }
      ]
    },
    {
      "cell_type": "code",
      "metadata": {
        "id": "UQByvFwXqedR",
        "outputId": "64f58824-b825-49d9-e51a-3e81ee4c5767",
        "colab": {
          "base_uri": "https://localhost:8080/",
          "height": 34
        }
      },
      "source": [
        "training_set.class_indices"
      ],
      "execution_count": 6,
      "outputs": [
        {
          "output_type": "execute_result",
          "data": {
            "text/plain": [
              "{'NORMAL': 0, 'PNEUMONIA': 1}"
            ]
          },
          "metadata": {
            "tags": []
          },
          "execution_count": 6
        }
      ]
    },
    {
      "cell_type": "markdown",
      "metadata": {
        "id": "af8O4l90gk7B"
      },
      "source": [
        "## Part 2 - Building the CNN"
      ]
    },
    {
      "cell_type": "markdown",
      "metadata": {
        "id": "ces1gXY2lmoX"
      },
      "source": [
        "### Initialising the CNN"
      ]
    },
    {
      "cell_type": "code",
      "metadata": {
        "id": "SAUt4UMPlhLS"
      },
      "source": [
        "cnn = tf.keras.models.Sequential()"
      ],
      "execution_count": 7,
      "outputs": []
    },
    {
      "cell_type": "markdown",
      "metadata": {
        "id": "u5YJj_XMl5LF"
      },
      "source": [
        "### Step 1 - Convolution"
      ]
    },
    {
      "cell_type": "code",
      "metadata": {
        "id": "XPzPrMckl-hV"
      },
      "source": [
        "cnn.add(tf.keras.layers.Conv2D(filters=32, kernel_size=3, activation='relu', input_shape=[64, 64, 3]))"
      ],
      "execution_count": 8,
      "outputs": []
    },
    {
      "cell_type": "markdown",
      "metadata": {
        "id": "tf87FpvxmNOJ"
      },
      "source": [
        "### Step 2 - Pooling"
      ]
    },
    {
      "cell_type": "code",
      "metadata": {
        "id": "ncpqPl69mOac"
      },
      "source": [
        "cnn.add(tf.keras.layers.MaxPool2D(pool_size=2, strides=2))"
      ],
      "execution_count": 9,
      "outputs": []
    },
    {
      "cell_type": "markdown",
      "metadata": {
        "id": "xaTOgD8rm4mU"
      },
      "source": [
        "### Adding a second convolutional layer"
      ]
    },
    {
      "cell_type": "code",
      "metadata": {
        "id": "i_-FZjn_m8gk"
      },
      "source": [
        "cnn.add(tf.keras.layers.Conv2D(filters=32, kernel_size=3, activation='relu'))\n",
        "cnn.add(tf.keras.layers.MaxPool2D(pool_size=2, strides=2))"
      ],
      "execution_count": 10,
      "outputs": []
    },
    {
      "cell_type": "markdown",
      "metadata": {
        "id": "tmiEuvTunKfk"
      },
      "source": [
        "### Step 3 - Flattening"
      ]
    },
    {
      "cell_type": "code",
      "metadata": {
        "id": "6AZeOGCvnNZn"
      },
      "source": [
        "cnn.add(tf.keras.layers.Flatten())"
      ],
      "execution_count": 11,
      "outputs": []
    },
    {
      "cell_type": "markdown",
      "metadata": {
        "id": "dAoSECOm203v"
      },
      "source": [
        "### Step 4 - Full Connection"
      ]
    },
    {
      "cell_type": "code",
      "metadata": {
        "id": "8GtmUlLd26Nq"
      },
      "source": [
        "cnn.add(tf.keras.layers.Dense(units=128, activation='relu'))"
      ],
      "execution_count": 12,
      "outputs": []
    },
    {
      "cell_type": "markdown",
      "metadata": {
        "id": "yTldFvbX28Na"
      },
      "source": [
        "### Step 5 - Output Layer"
      ]
    },
    {
      "cell_type": "code",
      "metadata": {
        "id": "1p_Zj1Mc3Ko_"
      },
      "source": [
        "cnn.add(tf.keras.layers.Dense(units=1, activation='sigmoid'))"
      ],
      "execution_count": 13,
      "outputs": []
    },
    {
      "cell_type": "markdown",
      "metadata": {
        "id": "D6XkI90snSDl"
      },
      "source": [
        "## Part 3 - Training the CNN"
      ]
    },
    {
      "cell_type": "markdown",
      "metadata": {
        "id": "vfrFQACEnc6i"
      },
      "source": [
        "### Compiling the CNN"
      ]
    },
    {
      "cell_type": "code",
      "metadata": {
        "id": "NALksrNQpUlJ"
      },
      "source": [
        "cnn.compile(optimizer = 'adam', loss = 'binary_crossentropy', metrics = ['accuracy'])"
      ],
      "execution_count": 14,
      "outputs": []
    },
    {
      "cell_type": "code",
      "metadata": {
        "id": "1VguFIo-zqf5",
        "outputId": "e18e6e47-8820-424e-843b-342a1e9912a7",
        "colab": {
          "base_uri": "https://localhost:8080/",
          "height": 386
        }
      },
      "source": [
        "cnn.summary()"
      ],
      "execution_count": 15,
      "outputs": [
        {
          "output_type": "stream",
          "text": [
            "Model: \"sequential\"\n",
            "_________________________________________________________________\n",
            "Layer (type)                 Output Shape              Param #   \n",
            "=================================================================\n",
            "conv2d (Conv2D)              (None, 62, 62, 32)        896       \n",
            "_________________________________________________________________\n",
            "max_pooling2d (MaxPooling2D) (None, 31, 31, 32)        0         \n",
            "_________________________________________________________________\n",
            "conv2d_1 (Conv2D)            (None, 29, 29, 32)        9248      \n",
            "_________________________________________________________________\n",
            "max_pooling2d_1 (MaxPooling2 (None, 14, 14, 32)        0         \n",
            "_________________________________________________________________\n",
            "flatten (Flatten)            (None, 6272)              0         \n",
            "_________________________________________________________________\n",
            "dense (Dense)                (None, 128)               802944    \n",
            "_________________________________________________________________\n",
            "dense_1 (Dense)              (None, 1)                 129       \n",
            "=================================================================\n",
            "Total params: 813,217\n",
            "Trainable params: 813,217\n",
            "Non-trainable params: 0\n",
            "_________________________________________________________________\n"
          ],
          "name": "stdout"
        }
      ]
    },
    {
      "cell_type": "markdown",
      "metadata": {
        "id": "ehS-v3MIpX2h"
      },
      "source": [
        "### Training the CNN on the Training set and evaluating it on the Test set"
      ]
    },
    {
      "cell_type": "code",
      "metadata": {
        "id": "XUj1W4PJptta",
        "outputId": "ee2ccd85-dbcb-4176-c022-c312a5cd9275",
        "colab": {
          "base_uri": "https://localhost:8080/",
          "height": 857
        }
      },
      "source": [
        "fitted_model = cnn.fit(x = training_set, validation_data = test_set, epochs = 25)"
      ],
      "execution_count": 16,
      "outputs": [
        {
          "output_type": "stream",
          "text": [
            "Epoch 1/25\n",
            "5/5 [==============================] - 30s 6s/step - loss: 0.8750 - accuracy: 0.4932 - val_loss: 0.6680 - val_accuracy: 0.5000\n",
            "Epoch 2/25\n",
            "5/5 [==============================] - 5s 1s/step - loss: 0.6721 - accuracy: 0.6081 - val_loss: 0.6490 - val_accuracy: 0.5000\n",
            "Epoch 3/25\n",
            "5/5 [==============================] - 5s 1s/step - loss: 0.6553 - accuracy: 0.5878 - val_loss: 0.6077 - val_accuracy: 0.9211\n",
            "Epoch 4/25\n",
            "5/5 [==============================] - 6s 1s/step - loss: 0.6055 - accuracy: 0.8311 - val_loss: 0.5073 - val_accuracy: 0.9737\n",
            "Epoch 5/25\n",
            "5/5 [==============================] - 5s 1s/step - loss: 0.5279 - accuracy: 0.8243 - val_loss: 0.3520 - val_accuracy: 0.9737\n",
            "Epoch 6/25\n",
            "5/5 [==============================] - 6s 1s/step - loss: 0.4189 - accuracy: 0.8851 - val_loss: 0.2154 - val_accuracy: 1.0000\n",
            "Epoch 7/25\n",
            "5/5 [==============================] - 6s 1s/step - loss: 0.3779 - accuracy: 0.8514 - val_loss: 0.1374 - val_accuracy: 0.9737\n",
            "Epoch 8/25\n",
            "5/5 [==============================] - 5s 1s/step - loss: 0.3402 - accuracy: 0.8716 - val_loss: 0.2262 - val_accuracy: 0.9211\n",
            "Epoch 9/25\n",
            "5/5 [==============================] - 6s 1s/step - loss: 0.3780 - accuracy: 0.8108 - val_loss: 0.1700 - val_accuracy: 0.9211\n",
            "Epoch 10/25\n",
            "5/5 [==============================] - 6s 1s/step - loss: 0.3288 - accuracy: 0.8716 - val_loss: 0.1194 - val_accuracy: 0.9737\n",
            "Epoch 11/25\n",
            "5/5 [==============================] - 5s 1s/step - loss: 0.2921 - accuracy: 0.8986 - val_loss: 0.1372 - val_accuracy: 0.9474\n",
            "Epoch 12/25\n",
            "5/5 [==============================] - 5s 1s/step - loss: 0.2575 - accuracy: 0.9054 - val_loss: 0.1226 - val_accuracy: 0.9474\n",
            "Epoch 13/25\n",
            "5/5 [==============================] - 6s 1s/step - loss: 0.2294 - accuracy: 0.9054 - val_loss: 0.1637 - val_accuracy: 0.9211\n",
            "Epoch 14/25\n",
            "5/5 [==============================] - 6s 1s/step - loss: 0.2884 - accuracy: 0.8649 - val_loss: 0.1125 - val_accuracy: 0.9474\n",
            "Epoch 15/25\n",
            "5/5 [==============================] - 6s 1s/step - loss: 0.2196 - accuracy: 0.9054 - val_loss: 0.1135 - val_accuracy: 0.9737\n",
            "Epoch 16/25\n",
            "5/5 [==============================] - 6s 1s/step - loss: 0.1911 - accuracy: 0.9257 - val_loss: 0.1133 - val_accuracy: 0.9474\n",
            "Epoch 17/25\n",
            "5/5 [==============================] - 6s 1s/step - loss: 0.1668 - accuracy: 0.9527 - val_loss: 0.0907 - val_accuracy: 1.0000\n",
            "Epoch 18/25\n",
            "5/5 [==============================] - 5s 1s/step - loss: 0.2260 - accuracy: 0.9122 - val_loss: 0.0907 - val_accuracy: 0.9474\n",
            "Epoch 19/25\n",
            "5/5 [==============================] - 6s 1s/step - loss: 0.2535 - accuracy: 0.8919 - val_loss: 0.0887 - val_accuracy: 1.0000\n",
            "Epoch 20/25\n",
            "5/5 [==============================] - 6s 1s/step - loss: 0.1650 - accuracy: 0.9324 - val_loss: 0.1173 - val_accuracy: 0.9474\n",
            "Epoch 21/25\n",
            "5/5 [==============================] - 5s 1s/step - loss: 0.1362 - accuracy: 0.9527 - val_loss: 0.1076 - val_accuracy: 0.9737\n",
            "Epoch 22/25\n",
            "5/5 [==============================] - 5s 1s/step - loss: 0.1326 - accuracy: 0.9730 - val_loss: 0.1094 - val_accuracy: 0.9474\n",
            "Epoch 23/25\n",
            "5/5 [==============================] - 5s 1s/step - loss: 0.1298 - accuracy: 0.9527 - val_loss: 0.1062 - val_accuracy: 0.9737\n",
            "Epoch 24/25\n",
            "5/5 [==============================] - 6s 1s/step - loss: 0.1995 - accuracy: 0.9324 - val_loss: 0.0985 - val_accuracy: 0.9474\n",
            "Epoch 25/25\n",
            "5/5 [==============================] - 5s 976ms/step - loss: 0.1320 - accuracy: 0.9189 - val_loss: 0.1176 - val_accuracy: 0.9737\n"
          ],
          "name": "stdout"
        }
      ]
    },
    {
      "cell_type": "code",
      "metadata": {
        "id": "2L_RaoIZG87L",
        "outputId": "99468a8b-7b5f-485c-a3fb-a20d67d6a862",
        "colab": {
          "base_uri": "https://localhost:8080/",
          "height": 282
        }
      },
      "source": [
        "import matplotlib.pyplot as plt\n",
        "# plotting accuracy and validation accuracy\n",
        "accuracy = fitted_model.history['accuracy']\n",
        "plt.plot(range(len(accuracy)), accuracy, 'bo', label = 'accuracy')\n",
        "\n",
        "plt.legend()"
      ],
      "execution_count": 17,
      "outputs": [
        {
          "output_type": "execute_result",
          "data": {
            "text/plain": [
              "<matplotlib.legend.Legend at 0x7f5cc24f0f28>"
            ]
          },
          "metadata": {
            "tags": []
          },
          "execution_count": 17
        },
        {
          "output_type": "display_data",
          "data": {
            "image/png": "[encoded data removed]",
            "text/plain": [
              "<Figure size 432x288 with 1 Axes>"
            ]
          },
          "metadata": {
            "tags": [],
            "needs_background": "light"
          }
        }
      ]
    },
    {
      "cell_type": "markdown",
      "metadata": {
        "id": "U3PZasO0006Z"
      },
      "source": [
        "## Part 4 - Making a single prediction"
      ]
    },
    {
      "cell_type": "code",
      "metadata": {
        "id": "gsSiWEJY1BPB",
        "outputId": "1a94f0e7-6b45-434c-8341-c18ba83c0f0a",
        "colab": {
          "base_uri": "https://localhost:8080/",
          "height": 34
        }
      },
      "source": [
        "import numpy as np\n",
        "from keras.preprocessing import image\n",
        "test_image = image.load_img('/content/gdrive/My Drive/Colab Notebooks/SARS-10.1148rg.242035193-g04mr34g0-Fig8c-day10.jpeg', target_size = (64, 64))\n",
        "test_image = image.img_to_array(test_image)\n",
        "test_image = np.expand_dims(test_image, axis = 0)\n",
        "result = cnn.predict(test_image)\n",
        "print(result)\n",
        "training_set.class_indices\n",
        "if result[0][0] == 1:\n",
        "  prediction = 'Pneumonia Detected (Person is Covid Patient)'\n",
        "else:\n",
        "  prediction = 'Not a Covid Patient'"
      ],
      "execution_count": 18,
      "outputs": [
        {
          "output_type": "stream",
          "text": [
            "[[1.]]\n"
          ],
          "name": "stdout"
        }
      ]
    },
    {
      "cell_type": "code",
      "metadata": {
        "id": "ED9KB3I54c1i",
        "outputId": "62dd65ec-a5b0-4131-cd1a-4e06558f531a",
        "colab": {
          "base_uri": "https://localhost:8080/",
          "height": 34
        }
      },
      "source": [
        "print(prediction)"
      ],
      "execution_count": 19,
      "outputs": [
        {
          "output_type": "stream",
          "text": [
            "Pneumonia Detected (Person is Covid Patient)\n"
          ],
          "name": "stdout"
        }
      ]
    }
  ]
}